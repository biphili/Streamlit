{
 "cells": [
  {
   "cell_type": "markdown",
   "metadata": {
    "papermill": {
     "duration": 0.017966,
     "end_time": "2021-01-27T10:32:49.468371",
     "exception": false,
     "start_time": "2021-01-27T10:32:49.450405",
     "status": "completed"
    },
    "tags": []
   },
   "source": [
    "# During the lockdown I published my first book titled Inspiration:Thoughts on Spirituality,Technology,Wealth,Leadership and Motivation.The preview of the book can be read from the Amazon link https://lnkd.in/gj7bMQA .\n",
    "# E Book is availabe for Rs 99 in India.Paperback Edition of the book is available on Amazon.com link https://lnkd.in/gkFYYMJ"
   ]
  },
  {
   "cell_type": "markdown",
   "metadata": {
    "papermill": {
     "duration": 0.013544,
     "end_time": "2021-01-27T10:32:49.496512",
     "exception": false,
     "start_time": "2021-01-27T10:32:49.482968",
     "status": "completed"
    },
    "tags": []
   },
   "source": [
    "In this dataset we have data of original and Fake Bank notes.We will try to build a Machine learning model which will help us to classify notes as authentic or Fake.\n",
    "\n",
    "This notebook is a work in process.If you like my work please do vote."
   ]
  },
  {
   "cell_type": "code",
   "execution_count": 1,
   "metadata": {
    "_cell_guid": "b1076dfc-b9ad-4769-8c92-a6c4dae69d19",
    "_kg_hide-input": true,
    "_uuid": "8f2839f25d086af736a60e9eeb907d3b93b6e0e5",
    "execution": {
     "iopub.execute_input": "2021-01-27T10:32:49.532443Z",
     "iopub.status.busy": "2021-01-27T10:32:49.531708Z",
     "iopub.status.idle": "2021-01-27T10:32:49.543891Z",
     "shell.execute_reply": "2021-01-27T10:32:49.544645Z"
    },
    "papermill": {
     "duration": 0.034139,
     "end_time": "2021-01-27T10:32:49.544878",
     "exception": false,
     "start_time": "2021-01-27T10:32:49.510739",
     "status": "completed"
    },
    "tags": []
   },
   "outputs": [
    {
     "name": "stdout",
     "output_type": "stream",
     "text": [
      "/kaggle/input/banknote-authentication-uci/BankNoteAuthentication.csv\n"
     ]
    }
   ],
   "source": [
    "# This Python 3 environment comes with many helpful analytics libraries installed\n",
    "# It is defined by the kaggle/python Docker image: https://github.com/kaggle/docker-python\n",
    "# For example, here's several helpful packages to load\n",
    "\n",
    "import numpy as np # linear algebra\n",
    "import pandas as pd # data processing, CSV file I/O (e.g. pd.read_csv)\n",
    "\n",
    "# Input data files are available in the read-only \"../input/\" directory\n",
    "# For example, running this (by clicking run or pressing Shift+Enter) will list all files under the input directory\n",
    "\n",
    "import os\n",
    "for dirname, _, filenames in os.walk('/kaggle/input'):\n",
    "    for filename in filenames:\n",
    "        print(os.path.join(dirname, filename))\n",
    "\n",
    "# You can write up to 20GB to the current directory (/kaggle/working/) that gets preserved as output when you create a version using \"Save & Run All\" \n",
    "# You can also write temporary files to /kaggle/temp/, but they won't be saved outside of the current session"
   ]
  },
  {
   "cell_type": "markdown",
   "metadata": {
    "papermill": {
     "duration": 0.014604,
     "end_time": "2021-01-27T10:32:49.574810",
     "exception": false,
     "start_time": "2021-01-27T10:32:49.560206",
     "status": "completed"
    },
    "tags": []
   },
   "source": [
    "### Importing Python Modules"
   ]
  },
  {
   "cell_type": "code",
   "execution_count": 2,
   "metadata": {
    "_kg_hide-input": true,
    "execution": {
     "iopub.execute_input": "2021-01-27T10:32:49.610887Z",
     "iopub.status.busy": "2021-01-27T10:32:49.609945Z",
     "iopub.status.idle": "2021-01-27T10:32:49.614273Z",
     "shell.execute_reply": "2021-01-27T10:32:49.613703Z"
    },
    "papermill": {
     "duration": 0.024428,
     "end_time": "2021-01-27T10:32:49.614408",
     "exception": false,
     "start_time": "2021-01-27T10:32:49.589980",
     "status": "completed"
    },
    "tags": []
   },
   "outputs": [],
   "source": [
    "import pandas as pd\n",
    "import numpy as np "
   ]
  },
  {
   "cell_type": "markdown",
   "metadata": {
    "papermill": {
     "duration": 0.015154,
     "end_time": "2021-01-27T10:32:49.645012",
     "exception": false,
     "start_time": "2021-01-27T10:32:49.629858",
     "status": "completed"
    },
    "tags": []
   },
   "source": [
    "### Importing Dataset"
   ]
  },
  {
   "cell_type": "code",
   "execution_count": 3,
   "metadata": {
    "_kg_hide-input": true,
    "execution": {
     "iopub.execute_input": "2021-01-27T10:32:49.683001Z",
     "iopub.status.busy": "2021-01-27T10:32:49.682201Z",
     "iopub.status.idle": "2021-01-27T10:32:49.721615Z",
     "shell.execute_reply": "2021-01-27T10:32:49.720783Z"
    },
    "papermill": {
     "duration": 0.061581,
     "end_time": "2021-01-27T10:32:49.721770",
     "exception": false,
     "start_time": "2021-01-27T10:32:49.660189",
     "status": "completed"
    },
    "tags": []
   },
   "outputs": [
    {
     "data": {
      "text/html": [
       "<div>\n",
       "<style scoped>\n",
       "    .dataframe tbody tr th:only-of-type {\n",
       "        vertical-align: middle;\n",
       "    }\n",
       "\n",
       "    .dataframe tbody tr th {\n",
       "        vertical-align: top;\n",
       "    }\n",
       "\n",
       "    .dataframe thead th {\n",
       "        text-align: right;\n",
       "    }\n",
       "</style>\n",
       "<table border=\"1\" class=\"dataframe\">\n",
       "  <thead>\n",
       "    <tr style=\"text-align: right;\">\n",
       "      <th></th>\n",
       "      <th>variance</th>\n",
       "      <th>skewness</th>\n",
       "      <th>curtosis</th>\n",
       "      <th>entropy</th>\n",
       "      <th>class</th>\n",
       "    </tr>\n",
       "  </thead>\n",
       "  <tbody>\n",
       "    <tr>\n",
       "      <th>0</th>\n",
       "      <td>3.62160</td>\n",
       "      <td>8.6661</td>\n",
       "      <td>-2.8073</td>\n",
       "      <td>-0.44699</td>\n",
       "      <td>0</td>\n",
       "    </tr>\n",
       "    <tr>\n",
       "      <th>1</th>\n",
       "      <td>4.54590</td>\n",
       "      <td>8.1674</td>\n",
       "      <td>-2.4586</td>\n",
       "      <td>-1.46210</td>\n",
       "      <td>0</td>\n",
       "    </tr>\n",
       "    <tr>\n",
       "      <th>2</th>\n",
       "      <td>3.86600</td>\n",
       "      <td>-2.6383</td>\n",
       "      <td>1.9242</td>\n",
       "      <td>0.10645</td>\n",
       "      <td>0</td>\n",
       "    </tr>\n",
       "    <tr>\n",
       "      <th>3</th>\n",
       "      <td>3.45660</td>\n",
       "      <td>9.5228</td>\n",
       "      <td>-4.0112</td>\n",
       "      <td>-3.59440</td>\n",
       "      <td>0</td>\n",
       "    </tr>\n",
       "    <tr>\n",
       "      <th>4</th>\n",
       "      <td>0.32924</td>\n",
       "      <td>-4.4552</td>\n",
       "      <td>4.5718</td>\n",
       "      <td>-0.98880</td>\n",
       "      <td>0</td>\n",
       "    </tr>\n",
       "  </tbody>\n",
       "</table>\n",
       "</div>"
      ],
      "text/plain": [
       "   variance  skewness  curtosis  entropy  class\n",
       "0   3.62160    8.6661   -2.8073 -0.44699      0\n",
       "1   4.54590    8.1674   -2.4586 -1.46210      0\n",
       "2   3.86600   -2.6383    1.9242  0.10645      0\n",
       "3   3.45660    9.5228   -4.0112 -3.59440      0\n",
       "4   0.32924   -4.4552    4.5718 -0.98880      0"
      ]
     },
     "execution_count": 3,
     "metadata": {},
     "output_type": "execute_result"
    }
   ],
   "source": [
    "df = pd.read_csv(\"../input/banknote-authentication-uci/BankNoteAuthentication.csv\")\n",
    "df.head()"
   ]
  },
  {
   "cell_type": "markdown",
   "metadata": {
    "papermill": {
     "duration": 0.01566,
     "end_time": "2021-01-27T10:32:49.753243",
     "exception": false,
     "start_time": "2021-01-27T10:32:49.737583",
     "status": "completed"
    },
    "tags": []
   },
   "source": [
    "### Creating Matrix of Features "
   ]
  },
  {
   "cell_type": "code",
   "execution_count": 4,
   "metadata": {
    "_kg_hide-input": true,
    "execution": {
     "iopub.execute_input": "2021-01-27T10:32:49.792161Z",
     "iopub.status.busy": "2021-01-27T10:32:49.791432Z",
     "iopub.status.idle": "2021-01-27T10:32:49.795402Z",
     "shell.execute_reply": "2021-01-27T10:32:49.794704Z"
    },
    "papermill": {
     "duration": 0.026585,
     "end_time": "2021-01-27T10:32:49.795552",
     "exception": false,
     "start_time": "2021-01-27T10:32:49.768967",
     "status": "completed"
    },
    "tags": []
   },
   "outputs": [],
   "source": [
    "X = df.iloc[:,:-1]\n",
    "y = df.iloc[:,-1]"
   ]
  },
  {
   "cell_type": "code",
   "execution_count": 5,
   "metadata": {
    "_kg_hide-input": true,
    "execution": {
     "iopub.execute_input": "2021-01-27T10:32:49.840162Z",
     "iopub.status.busy": "2021-01-27T10:32:49.839113Z",
     "iopub.status.idle": "2021-01-27T10:32:49.843953Z",
     "shell.execute_reply": "2021-01-27T10:32:49.843294Z"
    },
    "papermill": {
     "duration": 0.032747,
     "end_time": "2021-01-27T10:32:49.844075",
     "exception": false,
     "start_time": "2021-01-27T10:32:49.811328",
     "status": "completed"
    },
    "tags": []
   },
   "outputs": [
    {
     "data": {
      "text/html": [
       "<div>\n",
       "<style scoped>\n",
       "    .dataframe tbody tr th:only-of-type {\n",
       "        vertical-align: middle;\n",
       "    }\n",
       "\n",
       "    .dataframe tbody tr th {\n",
       "        vertical-align: top;\n",
       "    }\n",
       "\n",
       "    .dataframe thead th {\n",
       "        text-align: right;\n",
       "    }\n",
       "</style>\n",
       "<table border=\"1\" class=\"dataframe\">\n",
       "  <thead>\n",
       "    <tr style=\"text-align: right;\">\n",
       "      <th></th>\n",
       "      <th>variance</th>\n",
       "      <th>skewness</th>\n",
       "      <th>curtosis</th>\n",
       "      <th>entropy</th>\n",
       "    </tr>\n",
       "  </thead>\n",
       "  <tbody>\n",
       "    <tr>\n",
       "      <th>0</th>\n",
       "      <td>3.62160</td>\n",
       "      <td>8.6661</td>\n",
       "      <td>-2.8073</td>\n",
       "      <td>-0.44699</td>\n",
       "    </tr>\n",
       "    <tr>\n",
       "      <th>1</th>\n",
       "      <td>4.54590</td>\n",
       "      <td>8.1674</td>\n",
       "      <td>-2.4586</td>\n",
       "      <td>-1.46210</td>\n",
       "    </tr>\n",
       "    <tr>\n",
       "      <th>2</th>\n",
       "      <td>3.86600</td>\n",
       "      <td>-2.6383</td>\n",
       "      <td>1.9242</td>\n",
       "      <td>0.10645</td>\n",
       "    </tr>\n",
       "    <tr>\n",
       "      <th>3</th>\n",
       "      <td>3.45660</td>\n",
       "      <td>9.5228</td>\n",
       "      <td>-4.0112</td>\n",
       "      <td>-3.59440</td>\n",
       "    </tr>\n",
       "    <tr>\n",
       "      <th>4</th>\n",
       "      <td>0.32924</td>\n",
       "      <td>-4.4552</td>\n",
       "      <td>4.5718</td>\n",
       "      <td>-0.98880</td>\n",
       "    </tr>\n",
       "  </tbody>\n",
       "</table>\n",
       "</div>"
      ],
      "text/plain": [
       "   variance  skewness  curtosis  entropy\n",
       "0   3.62160    8.6661   -2.8073 -0.44699\n",
       "1   4.54590    8.1674   -2.4586 -1.46210\n",
       "2   3.86600   -2.6383    1.9242  0.10645\n",
       "3   3.45660    9.5228   -4.0112 -3.59440\n",
       "4   0.32924   -4.4552    4.5718 -0.98880"
      ]
     },
     "execution_count": 5,
     "metadata": {},
     "output_type": "execute_result"
    }
   ],
   "source": [
    "X.head()"
   ]
  },
  {
   "cell_type": "markdown",
   "metadata": {
    "papermill": {
     "duration": 0.015909,
     "end_time": "2021-01-27T10:32:49.876223",
     "exception": false,
     "start_time": "2021-01-27T10:32:49.860314",
     "status": "completed"
    },
    "tags": []
   },
   "source": [
    "### Test Train Split"
   ]
  },
  {
   "cell_type": "code",
   "execution_count": 6,
   "metadata": {
    "_kg_hide-input": true,
    "execution": {
     "iopub.execute_input": "2021-01-27T10:32:49.915697Z",
     "iopub.status.busy": "2021-01-27T10:32:49.914802Z",
     "iopub.status.idle": "2021-01-27T10:32:51.131027Z",
     "shell.execute_reply": "2021-01-27T10:32:51.130398Z"
    },
    "papermill": {
     "duration": 1.238592,
     "end_time": "2021-01-27T10:32:51.131181",
     "exception": false,
     "start_time": "2021-01-27T10:32:49.892589",
     "status": "completed"
    },
    "tags": []
   },
   "outputs": [],
   "source": [
    "from sklearn.model_selection import train_test_split\n",
    "X_train,X_test,y_train,y_test = train_test_split(X,y,test_size=0.3,random_state=0)"
   ]
  },
  {
   "cell_type": "markdown",
   "metadata": {
    "papermill": {
     "duration": 0.016042,
     "end_time": "2021-01-27T10:32:51.164030",
     "exception": false,
     "start_time": "2021-01-27T10:32:51.147988",
     "status": "completed"
    },
    "tags": []
   },
   "source": [
    "### Random Forest Classifier "
   ]
  },
  {
   "cell_type": "code",
   "execution_count": 7,
   "metadata": {
    "_kg_hide-input": true,
    "execution": {
     "iopub.execute_input": "2021-01-27T10:32:51.203640Z",
     "iopub.status.busy": "2021-01-27T10:32:51.202800Z",
     "iopub.status.idle": "2021-01-27T10:32:51.740900Z",
     "shell.execute_reply": "2021-01-27T10:32:51.741390Z"
    },
    "papermill": {
     "duration": 0.561149,
     "end_time": "2021-01-27T10:32:51.741595",
     "exception": false,
     "start_time": "2021-01-27T10:32:51.180446",
     "status": "completed"
    },
    "tags": []
   },
   "outputs": [
    {
     "data": {
      "text/plain": [
       "RandomForestClassifier()"
      ]
     },
     "execution_count": 7,
     "metadata": {},
     "output_type": "execute_result"
    }
   ],
   "source": [
    "from sklearn.ensemble import RandomForestClassifier\n",
    "classifier = RandomForestClassifier()\n",
    "classifier.fit(X_train,y_train)"
   ]
  },
  {
   "cell_type": "markdown",
   "metadata": {
    "papermill": {
     "duration": 0.016391,
     "end_time": "2021-01-27T10:32:51.775079",
     "exception": false,
     "start_time": "2021-01-27T10:32:51.758688",
     "status": "completed"
    },
    "tags": []
   },
   "source": [
    "### Prediction "
   ]
  },
  {
   "cell_type": "code",
   "execution_count": 8,
   "metadata": {
    "_kg_hide-input": true,
    "execution": {
     "iopub.execute_input": "2021-01-27T10:32:51.813446Z",
     "iopub.status.busy": "2021-01-27T10:32:51.812748Z",
     "iopub.status.idle": "2021-01-27T10:32:51.835243Z",
     "shell.execute_reply": "2021-01-27T10:32:51.834586Z"
    },
    "papermill": {
     "duration": 0.042942,
     "end_time": "2021-01-27T10:32:51.835379",
     "exception": false,
     "start_time": "2021-01-27T10:32:51.792437",
     "status": "completed"
    },
    "tags": []
   },
   "outputs": [],
   "source": [
    "y_pred = classifier.predict(X_test)"
   ]
  },
  {
   "cell_type": "markdown",
   "metadata": {
    "papermill": {
     "duration": 0.016719,
     "end_time": "2021-01-27T10:32:51.869428",
     "exception": false,
     "start_time": "2021-01-27T10:32:51.852709",
     "status": "completed"
    },
    "tags": []
   },
   "source": [
    "### Accuracy Check "
   ]
  },
  {
   "cell_type": "code",
   "execution_count": 9,
   "metadata": {
    "_kg_hide-input": true,
    "execution": {
     "iopub.execute_input": "2021-01-27T10:32:51.911284Z",
     "iopub.status.busy": "2021-01-27T10:32:51.910505Z",
     "iopub.status.idle": "2021-01-27T10:32:51.914564Z",
     "shell.execute_reply": "2021-01-27T10:32:51.915062Z"
    },
    "papermill": {
     "duration": 0.028129,
     "end_time": "2021-01-27T10:32:51.915244",
     "exception": false,
     "start_time": "2021-01-27T10:32:51.887115",
     "status": "completed"
    },
    "tags": []
   },
   "outputs": [],
   "source": [
    "from sklearn.metrics import accuracy_score\n",
    "score = accuracy_score(y_test,y_pred)"
   ]
  },
  {
   "cell_type": "code",
   "execution_count": 10,
   "metadata": {
    "_kg_hide-input": true,
    "execution": {
     "iopub.execute_input": "2021-01-27T10:32:51.956241Z",
     "iopub.status.busy": "2021-01-27T10:32:51.955505Z",
     "iopub.status.idle": "2021-01-27T10:32:51.960720Z",
     "shell.execute_reply": "2021-01-27T10:32:51.959986Z"
    },
    "papermill": {
     "duration": 0.028072,
     "end_time": "2021-01-27T10:32:51.960849",
     "exception": false,
     "start_time": "2021-01-27T10:32:51.932777",
     "status": "completed"
    },
    "tags": []
   },
   "outputs": [
    {
     "data": {
      "text/plain": [
       "0.9878640776699029"
      ]
     },
     "execution_count": 10,
     "metadata": {},
     "output_type": "execute_result"
    }
   ],
   "source": [
    "score"
   ]
  },
  {
   "cell_type": "markdown",
   "metadata": {
    "papermill": {
     "duration": 0.017175,
     "end_time": "2021-01-27T10:32:51.996385",
     "exception": false,
     "start_time": "2021-01-27T10:32:51.979210",
     "status": "completed"
    },
    "tags": []
   },
   "source": [
    "### Saving Model "
   ]
  },
  {
   "cell_type": "code",
   "execution_count": 11,
   "metadata": {
    "_kg_hide-input": true,
    "execution": {
     "iopub.execute_input": "2021-01-27T10:32:52.050892Z",
     "iopub.status.busy": "2021-01-27T10:32:52.050140Z",
     "iopub.status.idle": "2021-01-27T10:32:52.055607Z",
     "shell.execute_reply": "2021-01-27T10:32:52.054884Z"
    },
    "papermill": {
     "duration": 0.040508,
     "end_time": "2021-01-27T10:32:52.055745",
     "exception": false,
     "start_time": "2021-01-27T10:32:52.015237",
     "status": "completed"
    },
    "tags": []
   },
   "outputs": [],
   "source": [
    "import pickle \n",
    "pickle_out = open(\"classifier.pkl\",\"wb\")\n",
    "pickle.dump(classifier,pickle_out)\n",
    "pickle_out.close()"
   ]
  },
  {
   "cell_type": "markdown",
   "metadata": {
    "papermill": {
     "duration": 0.017493,
     "end_time": "2021-01-27T10:32:52.091345",
     "exception": false,
     "start_time": "2021-01-27T10:32:52.073852",
     "status": "completed"
    },
    "tags": []
   },
   "source": [
    "### Prediction "
   ]
  },
  {
   "cell_type": "code",
   "execution_count": 12,
   "metadata": {
    "_kg_hide-input": true,
    "execution": {
     "iopub.execute_input": "2021-01-27T10:32:52.142436Z",
     "iopub.status.busy": "2021-01-27T10:32:52.137940Z",
     "iopub.status.idle": "2021-01-27T10:32:52.154719Z",
     "shell.execute_reply": "2021-01-27T10:32:52.153961Z"
    },
    "papermill": {
     "duration": 0.045563,
     "end_time": "2021-01-27T10:32:52.154850",
     "exception": false,
     "start_time": "2021-01-27T10:32:52.109287",
     "status": "completed"
    },
    "tags": []
   },
   "outputs": [
    {
     "data": {
      "text/plain": [
       "array([0])"
      ]
     },
     "execution_count": 12,
     "metadata": {},
     "output_type": "execute_result"
    }
   ],
   "source": [
    "classifier.predict([[2,3,4,1]])"
   ]
  },
  {
   "cell_type": "code",
   "execution_count": null,
   "metadata": {
    "papermill": {
     "duration": 0.018339,
     "end_time": "2021-01-27T10:32:52.191672",
     "exception": false,
     "start_time": "2021-01-27T10:32:52.173333",
     "status": "completed"
    },
    "tags": []
   },
   "outputs": [],
   "source": []
  }
 ],
 "metadata": {
  "kernelspec": {
   "display_name": "Python 3",
   "language": "python",
   "name": "python3"
  },
  "language_info": {
   "codemirror_mode": {
    "name": "ipython",
    "version": 3
   },
   "file_extension": ".py",
   "mimetype": "text/x-python",
   "name": "python",
   "nbconvert_exporter": "python",
   "pygments_lexer": "ipython3",
   "version": "3.7.6"
  },
  "papermill": {
   "duration": 8.325808,
   "end_time": "2021-01-27T10:32:52.319446",
   "environment_variables": {},
   "exception": null,
   "input_path": "__notebook__.ipynb",
   "output_path": "__notebook__.ipynb",
   "parameters": {},
   "start_time": "2021-01-27T10:32:43.993638",
   "version": "2.1.0"
  }
 },
 "nbformat": 4,
 "nbformat_minor": 4
}
